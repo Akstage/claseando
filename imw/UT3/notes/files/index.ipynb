{
 "cells": [
  {
   "cell_type": "markdown",
   "metadata": {},
   "source": [
    "# Ficheros"
   ]
  },
  {
   "cell_type": "markdown",
   "metadata": {},
   "source": [
    "Vamos a suponer que tenemos el siguiente fichero:"
   ]
  },
  {
   "cell_type": "code",
   "execution_count": null,
   "metadata": {
    "collapsed": true
   },
   "outputs": [],
   "source": [
    "# %load \"users.dat\"\n",
    "pepe|fnewn2423|/bin/bash\n",
    "juan|nvskld780¡+|/bin/zsh\n",
    "maria|432lkk43j2|/bin/bash\n"
   ]
  },
  {
   "cell_type": "markdown",
   "metadata": {},
   "source": [
    "## Lectura de ficheros"
   ]
  },
  {
   "cell_type": "markdown",
   "metadata": {},
   "source": [
    "Si queremos leer todas las líneas del fichero:"
   ]
  },
  {
   "cell_type": "code",
   "execution_count": 9,
   "metadata": {
    "collapsed": false
   },
   "outputs": [
    {
     "name": "stdout",
     "output_type": "stream",
     "text": [
      "pepe|fnewn2423|/bin/bash\n",
      "\n",
      "juan|nvskld780¡+|/bin/zsh\n",
      "\n",
      "maria|432lkk43j2|/bin/bash\n",
      "\n"
     ]
    }
   ],
   "source": [
    "with open(\"users.dat\") as f:\n",
    "    for line in f:\n",
    "        print(line)"
   ]
  },
  {
   "cell_type": "markdown",
   "metadata": {},
   "source": [
    "Supongamos que ahora queremos mostrar el número de línea y quitar los espacios a la derecha de cada línea:"
   ]
  },
  {
   "cell_type": "code",
   "execution_count": 8,
   "metadata": {
    "collapsed": false
   },
   "outputs": [
    {
     "name": "stdout",
     "output_type": "stream",
     "text": [
      "   1: pepe|fnewn2423|/bin/bash\n",
      "   2: juan|nvskld780¡+|/bin/zsh\n",
      "   3: maria|432lkk43j2|/bin/bash\n"
     ]
    }
   ],
   "source": [
    "line_no = 1\n",
    "with open(\"users.dat\") as f:\n",
    "    for line in f:\n",
    "        print(\"{:>4}: {}\".format(line_no, line.rstrip()))\n",
    "        line_no += 1"
   ]
  },
  {
   "cell_type": "markdown",
   "metadata": {},
   "source": [
    "Vamos a ver la forma de acceder a cada uno de los campos separados por \"|\":"
   ]
  },
  {
   "cell_type": "code",
   "execution_count": 16,
   "metadata": {
    "collapsed": false
   },
   "outputs": [
    {
     "name": "stdout",
     "output_type": "stream",
     "text": [
      "Usuario 1:\n",
      "\t pepe\n",
      "\t fnewn2423\n",
      "\t /bin/bash\n",
      "Usuario 2:\n",
      "\t juan\n",
      "\t nvskld780¡+\n",
      "\t /bin/zsh\n",
      "Usuario 3:\n",
      "\t maria\n",
      "\t 432lkk43j2\n",
      "\t /bin/bash\n"
     ]
    }
   ],
   "source": [
    "line_no = 1\n",
    "with open(\"users.dat\") as f:\n",
    "    for line in f:\n",
    "        print(\"Usuario {}:\".format(line_no))\n",
    "        fields = line.strip().split(\"|\")\n",
    "        for field in fields:\n",
    "            print(\"\\t\", field)\n",
    "        line_no += 1"
   ]
  },
  {
   "cell_type": "markdown",
   "metadata": {},
   "source": [
    "Ahora queremos crear una lista de diccionarios y guardar cada línea como un nuevo elemento:"
   ]
  },
  {
   "cell_type": "code",
   "execution_count": 17,
   "metadata": {
    "collapsed": false
   },
   "outputs": [
    {
     "name": "stdout",
     "output_type": "stream",
     "text": [
      "[{'password': 'fnewn2423', 'shell': '/bin/bash', 'username': 'pepe'}, {'password': 'nvskld780¡+', 'shell': '/bin/zsh', 'username': 'juan'}, {'password': '432lkk43j2', 'shell': '/bin/bash', 'username': 'maria'}]\n"
     ]
    }
   ],
   "source": [
    "users = list()\n",
    "with open(\"users.dat\") as f:\n",
    "    for line in f:\n",
    "        fields = line.strip().split(\"|\")\n",
    "        users.append({\n",
    "            \"username\": fields[0],\n",
    "            \"password\": fields[1],\n",
    "            \"shell\": fields[2]\n",
    "        })\n",
    "print(users)"
   ]
  },
  {
   "cell_type": "markdown",
   "metadata": {},
   "source": [
    "## Escritura de ficheros"
   ]
  },
  {
   "cell_type": "markdown",
   "metadata": {},
   "source": [
    "Vamos a suponer que queremos escribir el diccionario anterior en un fichero:"
   ]
  },
  {
   "cell_type": "code",
   "execution_count": 24,
   "metadata": {
    "collapsed": false
   },
   "outputs": [],
   "source": [
    "import os\n",
    "\n",
    "with open(\"users2.dat\", \"w\") as f:\n",
    "    for user in users:\n",
    "        f.write(\"{}|{}|{}{}\".format(\n",
    "                user[\"username\"],\n",
    "                user[\"password\"],\n",
    "                user[\"shell\"],\n",
    "                os.linesep           # podría ser \"\\n\" ó \"\\r\\n\"\n",
    "        ))"
   ]
  },
  {
   "cell_type": "markdown",
   "metadata": {},
   "source": [
    "Vamos a comprobar el contenido del fichero:"
   ]
  },
  {
   "cell_type": "code",
   "execution_count": null,
   "metadata": {
    "collapsed": false
   },
   "outputs": [],
   "source": [
    "# %load \"users2.dat\"\n",
    "pepe|fnewn2423|/bin/bash\n",
    "juan|nvskld780¡+|/bin/zsh\n",
    "maria|432lkk43j2|/bin/bash\n"
   ]
  },
  {
   "cell_type": "markdown",
   "metadata": {},
   "source": [
    "### Añadir información al final de un fichero"
   ]
  },
  {
   "cell_type": "markdown",
   "metadata": {},
   "source": [
    "Supongamos que queremos añadir un usuario al final del fichero `users2.dat`:"
   ]
  },
  {
   "cell_type": "code",
   "execution_count": 27,
   "metadata": {
    "collapsed": false
   },
   "outputs": [],
   "source": [
    "import os\n",
    "\n",
    "with open(\"users2.dat\", \"a\") as f:\n",
    "    f.write(\"rosa|rew987r32|/bin/csh{}\".format(os.linesep))"
   ]
  },
  {
   "cell_type": "markdown",
   "metadata": {},
   "source": [
    "Veamos el contenido del fichero:"
   ]
  },
  {
   "cell_type": "code",
   "execution_count": null,
   "metadata": {
    "collapsed": true
   },
   "outputs": [],
   "source": [
    "# %load \"users2.dat\"\n",
    "pepe|fnewn2423|/bin/bash\n",
    "juan|nvskld780¡+|/bin/zsh\n",
    "maria|432lkk43j2|/bin/bash\n",
    "rosa|rew987r32|/bin/csh\n"
   ]
  },
  {
   "cell_type": "code",
   "execution_count": null,
   "metadata": {
    "collapsed": true
   },
   "outputs": [],
   "source": []
  }
 ],
 "metadata": {
  "kernelspec": {
   "display_name": "Python 3",
   "language": "python",
   "name": "python3"
  },
  "language_info": {
   "codemirror_mode": {
    "name": "ipython",
    "version": 3
   },
   "file_extension": ".py",
   "mimetype": "text/x-python",
   "name": "python",
   "nbconvert_exporter": "python",
   "pygments_lexer": "ipython3",
   "version": "3.5.1"
  }
 },
 "nbformat": 4,
 "nbformat_minor": 1
}
